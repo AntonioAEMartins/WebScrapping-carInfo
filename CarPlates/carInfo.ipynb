{
 "cells": [
  {
   "attachments": {},
   "cell_type": "markdown",
   "metadata": {},
   "source": [
    "# Web Scrapping | Coleta de Informações de Placa\n",
    "## Antônio Amaral Egydio Martins | Eng. Computação\n",
    "\n",
    "### Local de Trabalho"
   ]
  },
  {
   "cell_type": "code",
   "execution_count": 51,
   "metadata": {},
   "outputs": [],
   "source": [
    "import os\n",
    "from selenium import webdriver\n",
    "from selenium.webdriver.common.keys import Keys\n",
    "from selenium.webdriver.support.wait import WebDriverWait\n",
    "from selenium.webdriver.common.by import By\n",
    "import time"
   ]
  },
  {
   "cell_type": "code",
   "execution_count": 52,
   "metadata": {},
   "outputs": [
    {
     "name": "stdout",
     "output_type": "stream",
     "text": [
      "Esperamos trabalhar no diretório\n",
      "/Users/antonioamaralegydiomartins/Dev/Repos/CarPlates\n"
     ]
    }
   ],
   "source": [
    "#Checando Diretório \n",
    "print(\"Esperamos trabalhar no diretório\")\n",
    "print(os.getcwd())"
   ]
  },
  {
   "attachments": {},
   "cell_type": "markdown",
   "metadata": {},
   "source": [
    "### Abrindo TXT com Placas"
   ]
  },
  {
   "cell_type": "code",
   "execution_count": 53,
   "metadata": {},
   "outputs": [],
   "source": [
    "with open(\"./placasCarros.txt\", 'r') as file:\n",
    "    linhas = file.readlines()"
   ]
  },
  {
   "attachments": {},
   "cell_type": "markdown",
   "metadata": {},
   "source": [
    "### Web Scrapping 1 | Coleta de Informações Básicas"
   ]
  },
  {
   "cell_type": "code",
   "execution_count": 54,
   "metadata": {},
   "outputs": [
    {
     "name": "stderr",
     "output_type": "stream",
     "text": [
      "/var/folders/fl/8j680t3n413cg9j10mbh8xnm0000gn/T/ipykernel_6896/3826565413.py:2: DeprecationWarning: executable_path has been deprecated, please pass in a Service object\n",
      "  driver = webdriver.Chrome(\"./driver/chromedriver_mac64/chromedriver\")\n"
     ]
    },
    {
     "name": "stdout",
     "output_type": "stream",
     "text": [
      "Coletando informações da Placa: EPB2329\n",
      "\n",
      "Coletando informações da Placa: COG9111\n",
      "\n",
      "Coletando informações da Placa: CXY1238\n",
      "\n",
      "Coletando informações da Placa: BYN7676\n",
      "\n",
      "Coletando informações da Placa: BNH3860\n",
      "\n",
      "Coletando informações da Placa: FTS0555\n",
      "\n",
      "Coletando informações da Placa: DKC7045\n",
      "\n",
      "Coletando informações da Placa: DGN6665\n",
      "\n",
      "Coletando informações da Placa: FQG1210\n",
      "\n",
      "Coletando informações da Placa: EIR3299\n",
      "\n",
      "Coletando informações da Placa: AJC9190\n",
      "\n",
      "Coletando informações da Placa: BXS0002\n",
      "\n",
      "Coletando informações da Placa: BAN7171\n",
      "\n",
      "Coletando informações da Placa: COB1979\n",
      "\n",
      "Coletando informações da Placa: HGO1G69\n",
      "\n",
      "Coletando informações da Placa: CRH5134\n",
      "\n",
      "Coletando informações da Placa: GWX0883\n",
      "\n",
      "Coletando informações da Placa: GGG6666\n",
      "\n",
      "Coletando informações da Placa: FBX0055\n",
      "\n",
      "Coletando informações da Placa: ERM3120\n",
      "\n",
      "Coletando informações da Placa: LJM4003\n",
      "\n",
      "Coletando informações da Placa: CTS2F56\n",
      "\n",
      "Coletando informações da Placa: KNH9943\n",
      "\n",
      "Coletando informações da Placa: EZE7557\n",
      "\n",
      "Coletando informações da Placa: BYW0004\n",
      "\n",
      "Coletando informações da Placa: KRJ6689\n",
      "\n",
      "Coletando informações da Placa: EEG0002\n",
      "\n",
      "Coletando informações da Placa: DQP2H27\n",
      "\n",
      "Coletando informações da Placa: CGV9816\n",
      "\n",
      "Coletando informações da Placa: DIP5500\n",
      "\n",
      "Coletando informações da Placa: BKO1993\n",
      "\n",
      "Coletando informações da Placa: DHX8656\n",
      "\n",
      "Coletando informações da Placa: FSP4860\n",
      "\n",
      "Coletando informações da Placa: CJP1977\n",
      "\n",
      "Coletando informações da Placa: CTB8263\n",
      "\n",
      "Coletando informações da Placa: DWK1364\n",
      "\n",
      "Coletando informações da Placa: EGT7733\n",
      "\n",
      "Coletando informações da Placa: EIU9157\n",
      "\n",
      "Coletando informações da Placa: KNK8H51\n",
      "\n",
      "Coletando informações da Placa: BOX7701\n",
      "\n",
      "Coletando informações da Placa: CYO7778\n",
      "\n",
      "Coletando informações da Placa: DKG8619\n",
      "\n",
      "Coletando informações da Placa: EIR5214\n",
      "\n",
      "Coletando informações da Placa: EVP8135\n",
      "\n",
      "Coletando informações da Placa: CPM5836\n",
      "\n",
      "Coletando informações da Placa: CAN0766\n",
      "\n",
      "Coletando informações da Placa: CJL5007\n",
      "\n"
     ]
    },
    {
     "ename": "TimeoutException",
     "evalue": "Message: \nStacktrace:\n0   chromedriver                        0x000000010b3ed138 chromedriver + 4923704\n1   chromedriver                        0x000000010b3659d3 chromedriver + 4368851\n2   chromedriver                        0x000000010afae787 chromedriver + 472967\n3   chromedriver                        0x000000010aff2ba3 chromedriver + 752547\n4   chromedriver                        0x000000010aff2df1 chromedriver + 753137\n5   chromedriver                        0x000000010b039734 chromedriver + 1042228\n6   chromedriver                        0x000000010b01bfdd chromedriver + 921565\n7   chromedriver                        0x000000010b036c0f chromedriver + 1031183\n8   chromedriver                        0x000000010b01bd23 chromedriver + 920867\n9   chromedriver                        0x000000010afe2a4b chromedriver + 686667\n10  chromedriver                        0x000000010afe4044 chromedriver + 692292\n11  chromedriver                        0x000000010b3b88fe chromedriver + 4708606\n12  chromedriver                        0x000000010b3bde22 chromedriver + 4730402\n13  chromedriver                        0x000000010b3c66bf chromedriver + 4765375\n14  chromedriver                        0x000000010b3bee80 chromedriver + 4734592\n15  chromedriver                        0x000000010b38f975 chromedriver + 4540789\n16  chromedriver                        0x000000010b3e0e78 chromedriver + 4873848\n17  chromedriver                        0x000000010b3e0ff5 chromedriver + 4874229\n18  chromedriver                        0x000000010b3f56de chromedriver + 4957918\n19  libsystem_pthread.dylib             0x00007ff812895259 _pthread_start + 125\n20  libsystem_pthread.dylib             0x00007ff812890c7b thread_start + 15\n",
     "output_type": "error",
     "traceback": [
      "\u001b[0;31m---------------------------------------------------------------------------\u001b[0m",
      "\u001b[0;31mTimeoutException\u001b[0m                          Traceback (most recent call last)",
      "Cell \u001b[0;32mIn[54], line 15\u001b[0m\n\u001b[1;32m     13\u001b[0m \u001b[39mfor\u001b[39;00m placa \u001b[39min\u001b[39;00m linhas:\n\u001b[1;32m     14\u001b[0m     driver\u001b[39m.\u001b[39mget(\u001b[39mf\u001b[39m\u001b[39m\"\u001b[39m\u001b[39mhttps://www.ipvabr.com.br/placa/\u001b[39m\u001b[39m{\u001b[39;00mplaca\u001b[39m}\u001b[39;00m\u001b[39m\"\u001b[39m)\n\u001b[0;32m---> 15\u001b[0m     marca \u001b[39m=\u001b[39m WebDriverWait(driver, timeout\u001b[39m=\u001b[39;49m\u001b[39m10\u001b[39;49m)\u001b[39m.\u001b[39;49muntil(\u001b[39mlambda\u001b[39;49;00m x: x\u001b[39m.\u001b[39;49mfind_element(By\u001b[39m.\u001b[39;49mXPATH,\u001b[39m\"\u001b[39;49m\u001b[39m/html/body/div/div[2]/div/div/div[1]/table/tbody/tr[1]/td[2]\u001b[39;49m\u001b[39m\"\u001b[39;49m))\n\u001b[1;32m     16\u001b[0m     modelo \u001b[39m=\u001b[39m WebDriverWait(driver, timeout\u001b[39m=\u001b[39m\u001b[39m10\u001b[39m)\u001b[39m.\u001b[39muntil(\u001b[39mlambda\u001b[39;00m x: x\u001b[39m.\u001b[39mfind_element(By\u001b[39m.\u001b[39mXPATH,\u001b[39m\"\u001b[39m\u001b[39m/html/body/div/div[2]/div/div/div[1]/table/tbody/tr[2]/td[2]\u001b[39m\u001b[39m\"\u001b[39m))\n\u001b[1;32m     17\u001b[0m     anoModelo \u001b[39m=\u001b[39m WebDriverWait(driver, timeout\u001b[39m=\u001b[39m\u001b[39m10\u001b[39m)\u001b[39m.\u001b[39muntil(\u001b[39mlambda\u001b[39;00m x: x\u001b[39m.\u001b[39mfind_element(By\u001b[39m.\u001b[39mXPATH,\u001b[39m\"\u001b[39m\u001b[39m/html/body/div/div[2]/div/div/div[1]/table/tbody/tr[4]/td[2]\u001b[39m\u001b[39m\"\u001b[39m))\n",
      "File \u001b[0;32m/usr/local/lib/python3.10/site-packages/selenium/webdriver/support/wait.py:95\u001b[0m, in \u001b[0;36mWebDriverWait.until\u001b[0;34m(self, method, message)\u001b[0m\n\u001b[1;32m     93\u001b[0m     \u001b[39mif\u001b[39;00m time\u001b[39m.\u001b[39mmonotonic() \u001b[39m>\u001b[39m end_time:\n\u001b[1;32m     94\u001b[0m         \u001b[39mbreak\u001b[39;00m\n\u001b[0;32m---> 95\u001b[0m \u001b[39mraise\u001b[39;00m TimeoutException(message, screen, stacktrace)\n",
      "\u001b[0;31mTimeoutException\u001b[0m: Message: \nStacktrace:\n0   chromedriver                        0x000000010b3ed138 chromedriver + 4923704\n1   chromedriver                        0x000000010b3659d3 chromedriver + 4368851\n2   chromedriver                        0x000000010afae787 chromedriver + 472967\n3   chromedriver                        0x000000010aff2ba3 chromedriver + 752547\n4   chromedriver                        0x000000010aff2df1 chromedriver + 753137\n5   chromedriver                        0x000000010b039734 chromedriver + 1042228\n6   chromedriver                        0x000000010b01bfdd chromedriver + 921565\n7   chromedriver                        0x000000010b036c0f chromedriver + 1031183\n8   chromedriver                        0x000000010b01bd23 chromedriver + 920867\n9   chromedriver                        0x000000010afe2a4b chromedriver + 686667\n10  chromedriver                        0x000000010afe4044 chromedriver + 692292\n11  chromedriver                        0x000000010b3b88fe chromedriver + 4708606\n12  chromedriver                        0x000000010b3bde22 chromedriver + 4730402\n13  chromedriver                        0x000000010b3c66bf chromedriver + 4765375\n14  chromedriver                        0x000000010b3bee80 chromedriver + 4734592\n15  chromedriver                        0x000000010b38f975 chromedriver + 4540789\n16  chromedriver                        0x000000010b3e0e78 chromedriver + 4873848\n17  chromedriver                        0x000000010b3e0ff5 chromedriver + 4874229\n18  chromedriver                        0x000000010b3f56de chromedriver + 4957918\n19  libsystem_pthread.dylib             0x00007ff812895259 _pthread_start + 125\n20  libsystem_pthread.dylib             0x00007ff812890c7b thread_start + 15\n"
     ]
    }
   ],
   "source": [
    "# Inicializando WebDriver | Deve abrir instancia do Google Chrome\n",
    "driver = webdriver.Chrome(\"./driver/chromedriver_mac64/chromedriver\")\n",
    "# Abrindo Site\n",
    "\n",
    "marcaLista = []\n",
    "modeloLista = []\n",
    "anoMolLista = []\n",
    "anoFabLista = []\n",
    "placas = []\n",
    "\n",
    "# Localizando Elementos\n",
    "# | Input\n",
    "for placa in linhas:\n",
    "    driver.get(f\"https://www.ipvabr.com.br/placa/{placa}\")\n",
    "    marca = WebDriverWait(driver, timeout=10).until(lambda x: x.find_element(By.XPATH,\"/html/body/div/div[2]/div/div/div[1]/table/tbody/tr[1]/td[2]\"))\n",
    "    modelo = WebDriverWait(driver, timeout=10).until(lambda x: x.find_element(By.XPATH,\"/html/body/div/div[2]/div/div/div[1]/table/tbody/tr[2]/td[2]\"))\n",
    "    anoModelo = WebDriverWait(driver, timeout=10).until(lambda x: x.find_element(By.XPATH,\"/html/body/div/div[2]/div/div/div[1]/table/tbody/tr[4]/td[2]\"))\n",
    "    anoFrabricacao = WebDriverWait(driver, timeout=10).until(lambda x: x.find_element(By.XPATH,\"/html/body/div/div[2]/div/div/div[1]/table/tbody/tr[5]/td[2]\"))\n",
    "    marcaLista.append(marca.text)\n",
    "    modeloLista.append(modelo.text)\n",
    "    anoMolLista.append(anoModelo.text)\n",
    "    anoFabLista.append(anoFrabricacao.text)\n",
    "    placas.append(placa)\n",
    "    print(f\"Coletando informações da Placa: {placa}\")\n",
    "    time.sleep(60)\n"
   ]
  },
  {
   "cell_type": "code",
   "execution_count": 61,
   "metadata": {},
   "outputs": [],
   "source": [
    "with open(\"./Output/listaModelos.txt\",\"w\") as file:\n",
    "    for e in modeloLista:\n",
    "        file.write(e + \"\\n\")\n",
    "\n",
    "with open(\"./Output/listaMarcas.txt\",\"w\") as file:\n",
    "    for e in marcaLista:\n",
    "        file.write(e + \"\\n\")\n",
    "\n",
    "with open(\"./Output/listaAnoFab.txt\",\"w\") as file:\n",
    "    for e in anoFabLista:\n",
    "        file.write(e + \"\\n\")\n",
    "\n",
    "with open(\"./Output/listaAnoMod.txt\",\"w\") as file:\n",
    "    for e in anoMolLista:\n",
    "        file.write(e + \"\\n\")\n"
   ]
  },
  {
   "attachments": {},
   "cell_type": "markdown",
   "metadata": {},
   "source": [
    "### Web Scrapping 2 | Coleta de Dívidas + IPVA + Multas + Licenciamento"
   ]
  },
  {
   "cell_type": "code",
   "execution_count": null,
   "metadata": {},
   "outputs": [],
   "source": []
  },
  {
   "attachments": {},
   "cell_type": "markdown",
   "metadata": {},
   "source": [
    "### Construção de CSV | Armazenamento de Dados"
   ]
  },
  {
   "cell_type": "code",
   "execution_count": null,
   "metadata": {},
   "outputs": [],
   "source": []
  }
 ],
 "metadata": {
  "kernelspec": {
   "display_name": "Python 3",
   "language": "python",
   "name": "python3"
  },
  "language_info": {
   "codemirror_mode": {
    "name": "ipython",
    "version": 3
   },
   "file_extension": ".py",
   "mimetype": "text/x-python",
   "name": "python",
   "nbconvert_exporter": "python",
   "pygments_lexer": "ipython3",
   "version": "3.10.9"
  },
  "orig_nbformat": 4,
  "vscode": {
   "interpreter": {
    "hash": "aee8b7b246df8f9039afb4144a1f6fd8d2ca17a180786b69acc140d282b71a49"
   }
  }
 },
 "nbformat": 4,
 "nbformat_minor": 2
}
